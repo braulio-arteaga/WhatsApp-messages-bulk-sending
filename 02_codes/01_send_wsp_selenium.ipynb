{
 "cells": [
  {
   "cell_type": "markdown",
   "id": "826ced50",
   "metadata": {},
   "source": [
    "## WhatsApp messages bulk sending\n",
    " \n",
    "* **Autor:** Braulio Arteaga  \n",
    "* **Fecha de creación:** 28-01-22  \n",
    "* **Fecha de actualización:**  31-01-22"
   ]
  },
  {
   "cell_type": "markdown",
   "id": "866fabaa",
   "metadata": {},
   "source": [
    "Este notebook tomo como referencia principal el repositorio [whatsapp-bulk-messages-without-saving-contacts](https://github.com/inforkgodara/whatsapp-bulk-messages-without-saving-contacts) de [Ramesh Kumar](https://github.com/inforkgodara).  \n",
    "\n",
    "¡Gracias por tu contribución!"
   ]
  },
  {
   "cell_type": "markdown",
   "id": "dbe1fbd9",
   "metadata": {},
   "source": [
    "### 1. Requisitos: \n"
   ]
  },
  {
   "cell_type": "markdown",
   "id": "4c5440e6",
   "metadata": {},
   "source": [
    "* Descargar el chromeDriver.exe ([click aquí](https://chromedriver.chromium.org/downloads)) según la versión de tu navegador chrome. \n",
    "* Instalar los siguinetes paquetes:  \n",
    "`pip install pandas`  (data manipulation)  \n",
    "`pip install selenium`  (scraping)    \n",
    "`pip install webdriver_manager`  (scraping)  \n",
    "`pip install datetime` (current date)  \n",
    "`pip install pytz` (time zone)"
   ]
  },
  {
   "cell_type": "markdown",
   "id": "ff8cdc2a",
   "metadata": {},
   "source": [
    "### 2. Código:"
   ]
  },
  {
   "cell_type": "code",
   "execution_count": 20,
   "id": "0a792622",
   "metadata": {},
   "outputs": [],
   "source": [
    "# Importar packages\n",
    "import pandas as pd\n",
    "\n",
    "from selenium import webdriver\n",
    "from selenium.webdriver.support.ui import WebDriverWait\n",
    "from selenium.webdriver.support import expected_conditions as EC\n",
    "from selenium.webdriver.common.by import By\n",
    "from webdriver_manager.chrome import ChromeDriverManager\n",
    "\n",
    "import time\n",
    "from time import sleep\n",
    "import pytz\n",
    "from datetime import datetime"
   ]
  },
  {
   "cell_type": "code",
   "execution_count": 21,
   "id": "baed1544",
   "metadata": {},
   "outputs": [
    {
     "data": {
      "text/plain": [
       "'C:\\\\Users\\\\braul\\\\Desktop\\\\05_personal_projects\\\\01_GITHUB\\\\WhatsApp-messages-bulk-sending\\\\02_codes'"
      ]
     },
     "execution_count": 21,
     "metadata": {},
     "output_type": "execute_result"
    }
   ],
   "source": [
    "# Directorio actual de trabajo\n",
    "import os\n",
    "os.getcwd()"
   ]
  },
  {
   "cell_type": "code",
   "execution_count": 22,
   "id": "e683adc1",
   "metadata": {},
   "outputs": [],
   "source": [
    "# Estableciento rutas relativas de trabajo\n",
    "MAIN = \"C:/Users/braul/Desktop/05_personal_projects/01_GITHUB/WhatsApp-messages-bulk-sending\"\n",
    "INPUT = MAIN + \"/01_input\"\n",
    "OUTPUT = MAIN + \"/03_output\""
   ]
  },
  {
   "cell_type": "code",
   "execution_count": 23,
   "id": "d4be9c23",
   "metadata": {},
   "outputs": [
    {
     "data": {
      "text/html": [
       "<div>\n",
       "<style scoped>\n",
       "    .dataframe tbody tr th:only-of-type {\n",
       "        vertical-align: middle;\n",
       "    }\n",
       "\n",
       "    .dataframe tbody tr th {\n",
       "        vertical-align: top;\n",
       "    }\n",
       "\n",
       "    .dataframe thead th {\n",
       "        text-align: right;\n",
       "    }\n",
       "</style>\n",
       "<table border=\"1\" class=\"dataframe\">\n",
       "  <thead>\n",
       "    <tr style=\"text-align: right;\">\n",
       "      <th></th>\n",
       "      <th>phone</th>\n",
       "      <th>message</th>\n",
       "    </tr>\n",
       "  </thead>\n",
       "  <tbody>\n",
       "    <tr>\n",
       "      <th>0</th>\n",
       "      <td>9XXXXXXXX</td>\n",
       "      <td>¡Hola Juan! El siguiente mensaje es para recor...</td>\n",
       "    </tr>\n",
       "    <tr>\n",
       "      <th>1</th>\n",
       "      <td>9XXXXXXXY</td>\n",
       "      <td>¡Hola! Pedro! El siguiente mensaje es para rec...</td>\n",
       "    </tr>\n",
       "    <tr>\n",
       "      <th>2</th>\n",
       "      <td>9XXXXXXXZ</td>\n",
       "      <td>¡Hola Jorge! El siguiente mensaje es para reco...</td>\n",
       "    </tr>\n",
       "    <tr>\n",
       "      <th>3</th>\n",
       "      <td>9XXXXXXXW</td>\n",
       "      <td>¡Hola Julieta! El siguiente mensaje es para re...</td>\n",
       "    </tr>\n",
       "    <tr>\n",
       "      <th>4</th>\n",
       "      <td>9XXXXXXXV</td>\n",
       "      <td>¡Hola Antonella! El siguiente mensaje es para ...</td>\n",
       "    </tr>\n",
       "  </tbody>\n",
       "</table>\n",
       "</div>"
      ],
      "text/plain": [
       "       phone                                            message\n",
       "0  9XXXXXXXX  ¡Hola Juan! El siguiente mensaje es para recor...\n",
       "1  9XXXXXXXY  ¡Hola! Pedro! El siguiente mensaje es para rec...\n",
       "2  9XXXXXXXZ  ¡Hola Jorge! El siguiente mensaje es para reco...\n",
       "3  9XXXXXXXW  ¡Hola Julieta! El siguiente mensaje es para re...\n",
       "4  9XXXXXXXV  ¡Hola Antonella! El siguiente mensaje es para ..."
      ]
     },
     "execution_count": 23,
     "metadata": {},
     "output_type": "execute_result"
    }
   ],
   "source": [
    "# Importación de la hoja excel\n",
    "excel_data = pd.read_excel(INPUT +'/list_phone_sms.xlsx', sheet_name='01_list')\n",
    "data = pd.DataFrame(excel_data, columns = ['phone','message'])\n",
    "data"
   ]
  },
  {
   "cell_type": "code",
   "execution_count": 24,
   "id": "1766bc79",
   "metadata": {},
   "outputs": [
    {
     "data": {
      "text/html": [
       "<div>\n",
       "<style scoped>\n",
       "    .dataframe tbody tr th:only-of-type {\n",
       "        vertical-align: middle;\n",
       "    }\n",
       "\n",
       "    .dataframe tbody tr th {\n",
       "        vertical-align: top;\n",
       "    }\n",
       "\n",
       "    .dataframe thead th {\n",
       "        text-align: right;\n",
       "    }\n",
       "</style>\n",
       "<table border=\"1\" class=\"dataframe\">\n",
       "  <thead>\n",
       "    <tr style=\"text-align: right;\">\n",
       "      <th></th>\n",
       "      <th>phone</th>\n",
       "      <th>message</th>\n",
       "      <th>phone_cc</th>\n",
       "    </tr>\n",
       "  </thead>\n",
       "  <tbody>\n",
       "    <tr>\n",
       "      <th>0</th>\n",
       "      <td>9XXXXXXXX</td>\n",
       "      <td>¡Hola Juan! El siguiente mensaje es para recor...</td>\n",
       "      <td>519XXXXXXXX</td>\n",
       "    </tr>\n",
       "    <tr>\n",
       "      <th>1</th>\n",
       "      <td>9XXXXXXXY</td>\n",
       "      <td>¡Hola! Pedro! El siguiente mensaje es para rec...</td>\n",
       "      <td>519XXXXXXXY</td>\n",
       "    </tr>\n",
       "    <tr>\n",
       "      <th>2</th>\n",
       "      <td>9XXXXXXXZ</td>\n",
       "      <td>¡Hola Jorge! El siguiente mensaje es para reco...</td>\n",
       "      <td>519XXXXXXXZ</td>\n",
       "    </tr>\n",
       "    <tr>\n",
       "      <th>3</th>\n",
       "      <td>9XXXXXXXW</td>\n",
       "      <td>¡Hola Julieta! El siguiente mensaje es para re...</td>\n",
       "      <td>519XXXXXXXW</td>\n",
       "    </tr>\n",
       "    <tr>\n",
       "      <th>4</th>\n",
       "      <td>9XXXXXXXV</td>\n",
       "      <td>¡Hola Antonella! El siguiente mensaje es para ...</td>\n",
       "      <td>519XXXXXXXV</td>\n",
       "    </tr>\n",
       "  </tbody>\n",
       "</table>\n",
       "</div>"
      ],
      "text/plain": [
       "       phone                                            message     phone_cc\n",
       "0  9XXXXXXXX  ¡Hola Juan! El siguiente mensaje es para recor...  519XXXXXXXX\n",
       "1  9XXXXXXXY  ¡Hola! Pedro! El siguiente mensaje es para rec...  519XXXXXXXY\n",
       "2  9XXXXXXXZ  ¡Hola Jorge! El siguiente mensaje es para reco...  519XXXXXXXZ\n",
       "3  9XXXXXXXW  ¡Hola Julieta! El siguiente mensaje es para re...  519XXXXXXXW\n",
       "4  9XXXXXXXV  ¡Hola Antonella! El siguiente mensaje es para ...  519XXXXXXXV"
      ]
     },
     "execution_count": 24,
     "metadata": {},
     "output_type": "execute_result"
    }
   ],
   "source": [
    "# Añadir el código de país (Ejemplo: 51 = Perú):\n",
    "data['phone'] = data['phone'].astype(str)\n",
    "data[\"phone_cc\"] = \"51\" + data[\"phone\"] \n",
    "data"
   ]
  },
  {
   "cell_type": "code",
   "execution_count": 29,
   "id": "829c04f0",
   "metadata": {},
   "outputs": [
    {
     "data": {
      "text/html": [
       "<div>\n",
       "<style scoped>\n",
       "    .dataframe tbody tr th:only-of-type {\n",
       "        vertical-align: middle;\n",
       "    }\n",
       "\n",
       "    .dataframe tbody tr th {\n",
       "        vertical-align: top;\n",
       "    }\n",
       "\n",
       "    .dataframe thead th {\n",
       "        text-align: right;\n",
       "    }\n",
       "</style>\n",
       "<table border=\"1\" class=\"dataframe\">\n",
       "  <thead>\n",
       "    <tr style=\"text-align: right;\">\n",
       "      <th></th>\n",
       "      <th>phone</th>\n",
       "      <th>status</th>\n",
       "      <th>motive</th>\n",
       "    </tr>\n",
       "  </thead>\n",
       "  <tbody>\n",
       "    <tr>\n",
       "      <th>0</th>\n",
       "      <td>NaN</td>\n",
       "      <td>NaN</td>\n",
       "      <td>NaN</td>\n",
       "    </tr>\n",
       "    <tr>\n",
       "      <th>1</th>\n",
       "      <td>NaN</td>\n",
       "      <td>NaN</td>\n",
       "      <td>NaN</td>\n",
       "    </tr>\n",
       "    <tr>\n",
       "      <th>2</th>\n",
       "      <td>NaN</td>\n",
       "      <td>NaN</td>\n",
       "      <td>NaN</td>\n",
       "    </tr>\n",
       "    <tr>\n",
       "      <th>3</th>\n",
       "      <td>NaN</td>\n",
       "      <td>NaN</td>\n",
       "      <td>NaN</td>\n",
       "    </tr>\n",
       "    <tr>\n",
       "      <th>4</th>\n",
       "      <td>NaN</td>\n",
       "      <td>NaN</td>\n",
       "      <td>NaN</td>\n",
       "    </tr>\n",
       "  </tbody>\n",
       "</table>\n",
       "</div>"
      ],
      "text/plain": [
       "  phone status motive\n",
       "0   NaN    NaN    NaN\n",
       "1   NaN    NaN    NaN\n",
       "2   NaN    NaN    NaN\n",
       "3   NaN    NaN    NaN\n",
       "4   NaN    NaN    NaN"
      ]
     },
     "execution_count": 29,
     "metadata": {},
     "output_type": "execute_result"
    }
   ],
   "source": [
    "# Crear la estructura del reporte final:\n",
    "report_send = pd.DataFrame(columns = ['phone','status', 'motive'], index = list(range(len(data))))\n",
    "report_send"
   ]
  },
  {
   "cell_type": "code",
   "execution_count": 15,
   "id": "d506d3a1",
   "metadata": {},
   "outputs": [
    {
     "name": "stderr",
     "output_type": "stream",
     "text": [
      "\n",
      "\n",
      "====== WebDriver manager ======\n",
      "Current google-chrome version is 97.0.4692\n",
      "Get LATEST chromedriver version for 97.0.4692 google-chrome\n",
      "Driver [C:\\Users\\braul\\.wdm\\drivers\\chromedriver\\win32\\97.0.4692.71\\chromedriver.exe] found in cache\n",
      "<ipython-input-15-777379362ff9>:4: DeprecationWarning: executable_path has been deprecated, please pass in a Service object\n",
      "  driver = webdriver.Chrome(ChromeDriverManager().install())\n"
     ]
    },
    {
     "name": "stdout",
     "output_type": "stream",
     "text": [
      "Press ENTER after login into Whatsapp Web and your chats are visiable\n",
      "\n",
      "Message sent to: 51933368853\n",
      "Message sent to: 51922848812\n",
      "\n",
      "Failed to send message to 51962607427. The Motive was: element click intercepted: Element <button class=\"_4sWnG\">...</button> is not clickable at point (1000, 642)\n",
      "\n",
      "\n",
      "Sorry message could not sent to 51997668202\n",
      "\n",
      "Message sent to: 51921765439\n",
      "Message sent to: 51977200827\n",
      "\n",
      "The script executed successfully.\n",
      "\n",
      "The total messages sending took 1.5 minutes\n"
     ]
    }
   ],
   "source": [
    "############\n",
    "# ENVÍO DE SMS DE WSP\n",
    "############\n",
    "\n",
    "## PASO 0: Iniciar sesión en tu WhatsApp Web \n",
    "driver = webdriver.Chrome(ChromeDriverManager().install())\n",
    "driver.get('https://web.whatsapp.com')\n",
    "input(\"Presione ENTER luego de iniciar sesión en Whatsapp Web y así dar inicio al envío de mensajes\\n\")\n",
    "\n",
    "\n",
    "start = time.time()\n",
    "\n",
    "\n",
    "for i in range(len(data)):\n",
    "    try:\n",
    "## PASO 1: Abrir el url correspondiente al wsp del individuo \n",
    "        report_send['phone'][i] = data['phone_cc'][i] #reporte \n",
    "        url = 'https://web.whatsapp.com/send?phone=' + str(data['phone_cc'][i]) + '&text=' + data['message'][i]\n",
    "        sent = False\n",
    "        driver.get(url)\n",
    "## PASO 2: Encontrar el elemento clickeable necesario (HTML) para enviar el sms predefinido\n",
    "        try:\n",
    "            click_btn = WebDriverWait(driver, 10).until(\n",
    "                EC.element_to_be_clickable((By.CLASS_NAME, '_4sWnG')))\n",
    "        except Exception as e:\n",
    "            status1 = 'MENSAJE NO ENVIADO A: ' + str(data['phone_cc'][i]) \n",
    "            motive1 = 'Número sin WhatsApp o problemas de internet'\n",
    "            print('\\n' + status1 + '. Motivo: ' + motive1 + '\\n')\n",
    "            report_send['status'][i] = status1 #reporte \n",
    "            report_send['motive'][i] = motive1 #reporte \n",
    "        else:\n",
    "## PASO 3: Click al elemento HTML identificado para enviar el sms predefinido\n",
    "            sleep(2)\n",
    "            click_btn.click()\n",
    "            sent = True\n",
    "            sleep(5)\n",
    "            status2 = 'MENSAJE ENVIADO A: ' + str(data['phone_cc'][i])\n",
    "            print(status2)\n",
    "            report_send['status'][i] = status2 #reporte\n",
    "    except Exception as e:\n",
    "        status3 = \"MENSAJE NO ENVIADO A: \" + str(data['phone_cc'][i])  \n",
    "        motive2 = str(e)[9:34]\n",
    "        print( '\\n' + status3 + '. Motivo: '+ motive2 + '\\n')\n",
    "        report_send['status'][i] = status3 #reporte\n",
    "        report_send['motive'][i] = motive2 #reporte\n",
    "        \n",
    "driver.quit() #Cerrar driver luego de finalizado el loop\n",
    "print(\"\\nEl notebook terminó de ejecutarse.\")\n",
    "\n",
    "\n",
    "end = time.time() #Time of loop\n",
    "print(f\"\\nLa ejecución completa del notebook demoró {round((end-start)/60,2)} minutos\") #Tiempo de duración del loop"
   ]
  },
  {
   "cell_type": "code",
   "execution_count": null,
   "id": "465b085f",
   "metadata": {},
   "outputs": [],
   "source": [
    "# Obtener fecha actual en Perú\n",
    "country_time = datetime.now(pytz.timezone('America/Lima')) #para averiguar tu zona horaria: print(pytz.all_timezones)\n",
    "date = country_time.strftime(\"%d-%m-%y\")"
   ]
  },
  {
   "cell_type": "code",
   "execution_count": 58,
   "id": "43c300d4",
   "metadata": {},
   "outputs": [],
   "source": [
    "# Exportar reporte final\n",
    "report_send.to_excel(OUTPUT + '/report_send_wsp_' + date + \".xlsx\", index=False)"
   ]
  }
 ],
 "metadata": {
  "kernelspec": {
   "display_name": "Python 3",
   "language": "python",
   "name": "python3"
  },
  "language_info": {
   "codemirror_mode": {
    "name": "ipython",
    "version": 3
   },
   "file_extension": ".py",
   "mimetype": "text/x-python",
   "name": "python",
   "nbconvert_exporter": "python",
   "pygments_lexer": "ipython3",
   "version": "3.8.8"
  }
 },
 "nbformat": 4,
 "nbformat_minor": 5
}
