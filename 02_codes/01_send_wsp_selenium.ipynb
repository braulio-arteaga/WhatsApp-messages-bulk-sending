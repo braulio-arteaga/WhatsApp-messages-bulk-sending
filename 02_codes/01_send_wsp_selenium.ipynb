{
 "cells": [
  {
   "cell_type": "markdown",
   "id": "826ced50",
   "metadata": {},
   "source": [
    "## WhatsApp messages bulk sending\n",
    " \n",
    "* **Autor:** Braulio Arteaga  \n",
    "* **Fecha de creación:** 28-01-22  \n",
    "* **Fecha de actualización:**  22-12-22"
   ]
  },
  {
   "cell_type": "markdown",
   "id": "866fabaa",
   "metadata": {},
   "source": [
    "Este notebook tomo como referencia principal el repositorio [whatsapp-bulk-messages-without-saving-contacts](https://github.com/inforkgodara/whatsapp-bulk-messages-without-saving-contacts) de [Ramesh Kumar](https://github.com/inforkgodara).  \n",
    "\n",
    "¡Gracias por tu contribución!"
   ]
  },
  {
   "cell_type": "markdown",
   "id": "dbe1fbd9",
   "metadata": {},
   "source": [
    "### 1. Requisitos: \n"
   ]
  },
  {
   "cell_type": "markdown",
   "id": "4c5440e6",
   "metadata": {},
   "source": [
    " * Instalar los siguinetes paquetes:\n",
    "`!pip install pandas`  (data manipulation)  \n",
    "`!pip install openpyxl`  \n",
    "`!pip install selenium`  (scraping)    \n",
    "`!pip install webdriver_manager`  (scraping)  \n",
    "`!pip install datetime` (current date)  \n",
    "`!pip install pytz` (time zone)"
   ]
  },
  {
   "cell_type": "code",
   "execution_count": 1,
   "id": "662e714b",
   "metadata": {},
   "outputs": [],
   "source": [
    "#!pip install openpyxl\n",
    "#!pip install selenium \n",
    "#!pip install webdriver_manager  \n",
    "#!pip install datetime \n",
    "#!pip install pytz "
   ]
  },
  {
   "cell_type": "markdown",
   "id": "ff8cdc2a",
   "metadata": {},
   "source": [
    "### 2. Código:"
   ]
  },
  {
   "cell_type": "code",
   "execution_count": 1,
   "id": "0a792622",
   "metadata": {},
   "outputs": [],
   "source": [
    "# Importar packages\n",
    "import pandas as pd\n",
    "\n",
    "from selenium import webdriver\n",
    "from selenium.webdriver.support.ui import WebDriverWait\n",
    "from selenium.webdriver.support import expected_conditions as EC\n",
    "from selenium.webdriver.common.by import By\n",
    "from selenium.webdriver.chrome.service import Service\n",
    "from webdriver_manager.chrome import ChromeDriverManager\n",
    "\n",
    "import time\n",
    "from time import sleep\n",
    "import pytz\n",
    "from datetime import datetime"
   ]
  },
  {
   "cell_type": "code",
   "execution_count": 2,
   "id": "baed1544",
   "metadata": {},
   "outputs": [
    {
     "data": {
      "text/plain": [
       "'C:\\\\Users\\\\braul\\\\Desktop\\\\02_projects\\\\01_GITHUB\\\\WhatsApp-messages-bulk-sending\\\\02_codes'"
      ]
     },
     "execution_count": 2,
     "metadata": {},
     "output_type": "execute_result"
    }
   ],
   "source": [
    "# Directorio actual de trabajo\n",
    "import os\n",
    "os.getcwd()"
   ]
  },
  {
   "cell_type": "code",
   "execution_count": 3,
   "id": "e683adc1",
   "metadata": {},
   "outputs": [],
   "source": [
    "# Estableciento rutas relativas de trabajo (modificar)\n",
    "MAIN = \"C:/Users/braul/Desktop/02_projects/01_GITHUB/WhatsApp-messages-bulk-sending\"\n",
    "INPUT = MAIN + \"/01_input\"\n",
    "OUTPUT = MAIN + \"/03_output\""
   ]
  },
  {
   "cell_type": "code",
   "execution_count": 4,
   "id": "d4be9c23",
   "metadata": {},
   "outputs": [
    {
     "data": {
      "text/html": [
       "<div>\n",
       "<style scoped>\n",
       "    .dataframe tbody tr th:only-of-type {\n",
       "        vertical-align: middle;\n",
       "    }\n",
       "\n",
       "    .dataframe tbody tr th {\n",
       "        vertical-align: top;\n",
       "    }\n",
       "\n",
       "    .dataframe thead th {\n",
       "        text-align: right;\n",
       "    }\n",
       "</style>\n",
       "<table border=\"1\" class=\"dataframe\">\n",
       "  <thead>\n",
       "    <tr style=\"text-align: right;\">\n",
       "      <th></th>\n",
       "      <th>phone</th>\n",
       "      <th>message</th>\n",
       "    </tr>\n",
       "  </thead>\n",
       "  <tbody>\n",
       "    <tr>\n",
       "      <th>0</th>\n",
       "      <td>9XXXXXXXX</td>\n",
       "      <td>¡Hola Juan! El siguiente mensaje es para recor...</td>\n",
       "    </tr>\n",
       "    <tr>\n",
       "      <th>1</th>\n",
       "      <td>962607427</td>\n",
       "      <td>¡Hola! Pedro! El siguiente mensaje es para rec...</td>\n",
       "    </tr>\n",
       "    <tr>\n",
       "      <th>2</th>\n",
       "      <td>9XXXXXXXZ</td>\n",
       "      <td>¡Hola Ronny! El siguiente mensaje es para reco...</td>\n",
       "    </tr>\n",
       "    <tr>\n",
       "      <th>3</th>\n",
       "      <td>9XXXXXXXW</td>\n",
       "      <td>¡Hola Dianela! El siguiente mensaje es para re...</td>\n",
       "    </tr>\n",
       "    <tr>\n",
       "      <th>4</th>\n",
       "      <td>9XXXXXXXV</td>\n",
       "      <td>¡Hola Antonella! El siguiente mensaje es para ...</td>\n",
       "    </tr>\n",
       "  </tbody>\n",
       "</table>\n",
       "</div>"
      ],
      "text/plain": [
       "       phone                                            message\n",
       "0  9XXXXXXXX  ¡Hola Juan! El siguiente mensaje es para recor...\n",
       "1  962607427  ¡Hola! Pedro! El siguiente mensaje es para rec...\n",
       "2  9XXXXXXXZ  ¡Hola Ronny! El siguiente mensaje es para reco...\n",
       "3  9XXXXXXXW  ¡Hola Dianela! El siguiente mensaje es para re...\n",
       "4  9XXXXXXXV  ¡Hola Antonella! El siguiente mensaje es para ..."
      ]
     },
     "execution_count": 4,
     "metadata": {},
     "output_type": "execute_result"
    }
   ],
   "source": [
    "# Importación de la hoja excel (modificar)\n",
    "excel_data = pd.read_excel(INPUT +'/list_phone_sms.xlsx')\n",
    "data = pd.DataFrame(excel_data, columns = ['phone','message'])\n",
    "data"
   ]
  },
  {
   "cell_type": "code",
   "execution_count": 5,
   "id": "1766bc79",
   "metadata": {},
   "outputs": [
    {
     "data": {
      "text/html": [
       "<div>\n",
       "<style scoped>\n",
       "    .dataframe tbody tr th:only-of-type {\n",
       "        vertical-align: middle;\n",
       "    }\n",
       "\n",
       "    .dataframe tbody tr th {\n",
       "        vertical-align: top;\n",
       "    }\n",
       "\n",
       "    .dataframe thead th {\n",
       "        text-align: right;\n",
       "    }\n",
       "</style>\n",
       "<table border=\"1\" class=\"dataframe\">\n",
       "  <thead>\n",
       "    <tr style=\"text-align: right;\">\n",
       "      <th></th>\n",
       "      <th>phone</th>\n",
       "      <th>message</th>\n",
       "      <th>phone_cc</th>\n",
       "    </tr>\n",
       "  </thead>\n",
       "  <tbody>\n",
       "    <tr>\n",
       "      <th>0</th>\n",
       "      <td>9XXXXXXXX</td>\n",
       "      <td>¡Hola Juan! El siguiente mensaje es para recor...</td>\n",
       "      <td>519XXXXXXXX</td>\n",
       "    </tr>\n",
       "    <tr>\n",
       "      <th>1</th>\n",
       "      <td>962607427</td>\n",
       "      <td>¡Hola! Pedro! El siguiente mensaje es para rec...</td>\n",
       "      <td>51962607427</td>\n",
       "    </tr>\n",
       "    <tr>\n",
       "      <th>2</th>\n",
       "      <td>9XXXXXXXZ</td>\n",
       "      <td>¡Hola Ronny! El siguiente mensaje es para reco...</td>\n",
       "      <td>519XXXXXXXZ</td>\n",
       "    </tr>\n",
       "    <tr>\n",
       "      <th>3</th>\n",
       "      <td>9XXXXXXXW</td>\n",
       "      <td>¡Hola Dianela! El siguiente mensaje es para re...</td>\n",
       "      <td>519XXXXXXXW</td>\n",
       "    </tr>\n",
       "    <tr>\n",
       "      <th>4</th>\n",
       "      <td>9XXXXXXXV</td>\n",
       "      <td>¡Hola Antonella! El siguiente mensaje es para ...</td>\n",
       "      <td>519XXXXXXXV</td>\n",
       "    </tr>\n",
       "  </tbody>\n",
       "</table>\n",
       "</div>"
      ],
      "text/plain": [
       "       phone                                            message     phone_cc\n",
       "0  9XXXXXXXX  ¡Hola Juan! El siguiente mensaje es para recor...  519XXXXXXXX\n",
       "1  962607427  ¡Hola! Pedro! El siguiente mensaje es para rec...  51962607427\n",
       "2  9XXXXXXXZ  ¡Hola Ronny! El siguiente mensaje es para reco...  519XXXXXXXZ\n",
       "3  9XXXXXXXW  ¡Hola Dianela! El siguiente mensaje es para re...  519XXXXXXXW\n",
       "4  9XXXXXXXV  ¡Hola Antonella! El siguiente mensaje es para ...  519XXXXXXXV"
      ]
     },
     "execution_count": 5,
     "metadata": {},
     "output_type": "execute_result"
    }
   ],
   "source": [
    "# Añadir el código de país. Ejemplo: 51 = Perú (modificar):\n",
    "data['phone'] = data['phone'].astype(str)\n",
    "data[\"phone_cc\"] = \"51\" + data[\"phone\"] \n",
    "data"
   ]
  },
  {
   "cell_type": "code",
   "execution_count": 6,
   "id": "829c04f0",
   "metadata": {},
   "outputs": [
    {
     "data": {
      "text/html": [
       "<div>\n",
       "<style scoped>\n",
       "    .dataframe tbody tr th:only-of-type {\n",
       "        vertical-align: middle;\n",
       "    }\n",
       "\n",
       "    .dataframe tbody tr th {\n",
       "        vertical-align: top;\n",
       "    }\n",
       "\n",
       "    .dataframe thead th {\n",
       "        text-align: right;\n",
       "    }\n",
       "</style>\n",
       "<table border=\"1\" class=\"dataframe\">\n",
       "  <thead>\n",
       "    <tr style=\"text-align: right;\">\n",
       "      <th></th>\n",
       "      <th>phone_cc</th>\n",
       "      <th>message</th>\n",
       "      <th>status</th>\n",
       "      <th>motive</th>\n",
       "    </tr>\n",
       "  </thead>\n",
       "  <tbody>\n",
       "    <tr>\n",
       "      <th>0</th>\n",
       "      <td>NaN</td>\n",
       "      <td>NaN</td>\n",
       "      <td>NaN</td>\n",
       "      <td>NaN</td>\n",
       "    </tr>\n",
       "    <tr>\n",
       "      <th>1</th>\n",
       "      <td>NaN</td>\n",
       "      <td>NaN</td>\n",
       "      <td>NaN</td>\n",
       "      <td>NaN</td>\n",
       "    </tr>\n",
       "    <tr>\n",
       "      <th>2</th>\n",
       "      <td>NaN</td>\n",
       "      <td>NaN</td>\n",
       "      <td>NaN</td>\n",
       "      <td>NaN</td>\n",
       "    </tr>\n",
       "    <tr>\n",
       "      <th>3</th>\n",
       "      <td>NaN</td>\n",
       "      <td>NaN</td>\n",
       "      <td>NaN</td>\n",
       "      <td>NaN</td>\n",
       "    </tr>\n",
       "    <tr>\n",
       "      <th>4</th>\n",
       "      <td>NaN</td>\n",
       "      <td>NaN</td>\n",
       "      <td>NaN</td>\n",
       "      <td>NaN</td>\n",
       "    </tr>\n",
       "  </tbody>\n",
       "</table>\n",
       "</div>"
      ],
      "text/plain": [
       "  phone_cc message status motive\n",
       "0      NaN     NaN    NaN    NaN\n",
       "1      NaN     NaN    NaN    NaN\n",
       "2      NaN     NaN    NaN    NaN\n",
       "3      NaN     NaN    NaN    NaN\n",
       "4      NaN     NaN    NaN    NaN"
      ]
     },
     "execution_count": 6,
     "metadata": {},
     "output_type": "execute_result"
    }
   ],
   "source": [
    "# Crear la estructura del reporte final (modificar):\n",
    "report_send = pd.DataFrame(columns = ['phone_cc','message','status', 'motive'], index = list(range(len(data))))\n",
    "report_send"
   ]
  },
  {
   "cell_type": "code",
   "execution_count": 7,
   "id": "d506d3a1",
   "metadata": {
    "scrolled": true
   },
   "outputs": [
    {
     "name": "stderr",
     "output_type": "stream",
     "text": [
      "[WDM] - Downloading: 100%|████████████████████████████████████████████████████████| 6.58M/6.58M [00:01<00:00, 3.48MB/s]\n"
     ]
    },
    {
     "name": "stdout",
     "output_type": "stream",
     "text": [
      "Presione ENTER luego de iniciar sesión en Whatsapp Web. Posteriormente iniciará el envío de mensajes\n",
      "\n",
      "MENSAJE NO ENVIADO A 519XXXXXXXX. Motivo: Número sin WhatsApp o problemas de internet\n",
      "MENSAJE ENVIADO A 51962607427\n",
      "MENSAJE NO ENVIADO A 519XXXXXXXZ. Motivo: Número sin WhatsApp o problemas de internet\n",
      "MENSAJE NO ENVIADO A 519XXXXXXXW. Motivo: Número sin WhatsApp o problemas de internet\n",
      "MENSAJE NO ENVIADO A 519XXXXXXXV. Motivo: Número sin WhatsApp o problemas de internet\n",
      "\n",
      "El loop terminó de ejecutarse.\n",
      "\n",
      "Se enviaron 1 mensajes con éxito y 4 tuvieron problemas\n",
      "\n",
      "La ejecución del loop demoró 1.02 minutos\n"
     ]
    }
   ],
   "source": [
    "############\n",
    "# ENVÍO DE MENSAJES DE WSP (modificar)\n",
    "############\n",
    "\n",
    "## PASO 1: Iniciar sesión en tu WhatsApp Web \n",
    "driver = webdriver.Chrome(service=Service(ChromeDriverManager().install()))\n",
    "driver.get('https://web.whatsapp.com')\n",
    "input(\"Presione ENTER luego de iniciar sesión en Whatsapp Web. Posteriormente iniciará el envío de mensajes\\n\")\n",
    "\n",
    "\n",
    "start = time.time()\n",
    "exito = 0\n",
    "\n",
    "for i in range(len(data)):\n",
    "    try:\n",
    "## PASO 2: Abrir el url correspondiente al wsp del individuo \n",
    "        report_send['phone_cc'][i] = data['phone_cc'][i] #reporte\n",
    "        report_send['message'][i] = data['message'][i] #report\n",
    "        url = 'https://web.whatsapp.com/send?phone=' + str(data['phone_cc'][i]) + '&text=' + data['message'][i]\n",
    "        sent = False\n",
    "        driver.get(url)\n",
    "## PASO 3: Encontrar el elemento clickeable necesario (HTML) para enviar el sms predefinido\n",
    "        try:\n",
    "            click_btn = WebDriverWait(driver, 10).until(\n",
    "                EC.element_to_be_clickable((By.CLASS_NAME, 'tvf2evcx.oq44ahr5.lb5m6g5c.svlsagor.p2rjqpw5.epia9gcq'))) ##before: <button class=\"_4sWnG\">\n",
    "                \n",
    "        except Exception as e:\n",
    "            status1 = 'MENSAJE NO ENVIADO A ' + str(data['phone_cc'][i]) \n",
    "            motive1 = 'Número sin WhatsApp o problemas de internet'\n",
    "            report_send['status'][i] = status1 #reporte \n",
    "            report_send['motive'][i] = motive1 #reporte \n",
    "            print(status1 + '. Motivo: ' + motive1)\n",
    "        else:\n",
    "## PASO 4: Click al elemento HTML identificado para enviar el sms predefinido\n",
    "            sleep(2)\n",
    "            click_btn.click()\n",
    "            sent = True\n",
    "            sleep(4)\n",
    "            status2 = 'MENSAJE ENVIADO A ' + str(data['phone_cc'][i])\n",
    "            report_send['status'][i] = status2 #reporte\n",
    "            report_send['motive'][i] = \"\" #reporte\n",
    "            exito += 1 \n",
    "            print(status2)\n",
    "    except Exception as e:\n",
    "        status3 = \"MENSAJE NO ENVIADO A \" + str(data['phone_cc'][i])  \n",
    "        motive2 = str(e)[9:34]\n",
    "        report_send['status'][i] = status3 #reporte\n",
    "        report_send['motive'][i] = motive2 #reporte\n",
    "        print(status3 + '. Motivo: '+ motive2)\n",
    "        \n",
    "driver.quit() #Cerrar driver luego de finalizado el loop\n",
    "print(\"\\nEl loop terminó de ejecutarse.\")\n",
    "\n",
    "\n",
    "end = time.time() #Time of loop\n",
    "print(f'\\nSe enviaron {exito} mensajes con éxito y {len(data)-exito} tuvieron problemas')\n",
    "print(f\"\\nLa ejecución del loop demoró {round((end-start)/60,2)} minutos\") #Tiempo de duración del loop\n"
   ]
  },
  {
   "cell_type": "code",
   "execution_count": 8,
   "id": "465b085f",
   "metadata": {},
   "outputs": [],
   "source": [
    "# Obtener fecha actual de Perú (modificar)\n",
    "country_time = datetime.now(pytz.timezone('America/Lima')) #para averiguar tu zona horaria: print(pytz.all_timezones)\n",
    "date = country_time.strftime(\"%d-%m-%y\")"
   ]
  },
  {
   "cell_type": "code",
   "execution_count": 9,
   "id": "43c300d4",
   "metadata": {},
   "outputs": [],
   "source": [
    "# Exportar reporte final\n",
    "report_send.to_excel(OUTPUT + '/report_send_wsp_' + date + \".xlsx\", index=False)"
   ]
  },
  {
   "cell_type": "code",
   "execution_count": 10,
   "id": "737a8fb8",
   "metadata": {},
   "outputs": [
    {
     "data": {
      "text/html": [
       "<div>\n",
       "<style scoped>\n",
       "    .dataframe tbody tr th:only-of-type {\n",
       "        vertical-align: middle;\n",
       "    }\n",
       "\n",
       "    .dataframe tbody tr th {\n",
       "        vertical-align: top;\n",
       "    }\n",
       "\n",
       "    .dataframe thead th {\n",
       "        text-align: right;\n",
       "    }\n",
       "</style>\n",
       "<table border=\"1\" class=\"dataframe\">\n",
       "  <thead>\n",
       "    <tr style=\"text-align: right;\">\n",
       "      <th></th>\n",
       "      <th>phone_cc</th>\n",
       "      <th>message</th>\n",
       "    </tr>\n",
       "  </thead>\n",
       "  <tbody>\n",
       "    <tr>\n",
       "      <th>0</th>\n",
       "      <td>519XXXXXXXX</td>\n",
       "      <td>¡Hola Juan! El siguiente mensaje es para recor...</td>\n",
       "    </tr>\n",
       "    <tr>\n",
       "      <th>1</th>\n",
       "      <td>519XXXXXXXZ</td>\n",
       "      <td>¡Hola Ronny! El siguiente mensaje es para reco...</td>\n",
       "    </tr>\n",
       "    <tr>\n",
       "      <th>2</th>\n",
       "      <td>519XXXXXXXW</td>\n",
       "      <td>¡Hola Dianela! El siguiente mensaje es para re...</td>\n",
       "    </tr>\n",
       "    <tr>\n",
       "      <th>3</th>\n",
       "      <td>519XXXXXXXV</td>\n",
       "      <td>¡Hola Antonella! El siguiente mensaje es para ...</td>\n",
       "    </tr>\n",
       "  </tbody>\n",
       "</table>\n",
       "</div>"
      ],
      "text/plain": [
       "      phone_cc                                            message\n",
       "0  519XXXXXXXX  ¡Hola Juan! El siguiente mensaje es para recor...\n",
       "1  519XXXXXXXZ  ¡Hola Ronny! El siguiente mensaje es para reco...\n",
       "2  519XXXXXXXW  ¡Hola Dianela! El siguiente mensaje es para re...\n",
       "3  519XXXXXXXV  ¡Hola Antonella! El siguiente mensaje es para ..."
      ]
     },
     "execution_count": 10,
     "metadata": {},
     "output_type": "execute_result"
    }
   ],
   "source": [
    "################\n",
    "# REENVÍO DE MENSAJES NO ENVIADOS (código OPCIONAL)\n",
    "################\n",
    "\n",
    "# PASO 1: Obtener la \"data\" de los números que no recibieron el mensaje con éxito\n",
    "report_not_send = report_send[report_send.status.str.contains('MENSAJE NO ENVIADO', regex = True, na = False)]\n",
    "report_not_send = report_not_send.reset_index()\n",
    "data = report_not_send[['phone_cc','message']]\n",
    "data\n",
    "\n",
    "# PASO 2: Ejecutar los bloques de código que realizan lo siguiente: \n",
    "## 1- \"Crear la estructura del reporte final\" (línea 6)\n",
    "## 2- \"ENVÍO DE SMS DE WSP\" (línea 7)"
   ]
  },
  {
   "cell_type": "code",
   "execution_count": null,
   "id": "341088de",
   "metadata": {},
   "outputs": [],
   "source": []
  }
 ],
 "metadata": {
  "kernelspec": {
   "display_name": "Python 3 (ipykernel)",
   "language": "python",
   "name": "python3"
  },
  "language_info": {
   "codemirror_mode": {
    "name": "ipython",
    "version": 3
   },
   "file_extension": ".py",
   "mimetype": "text/x-python",
   "name": "python",
   "nbconvert_exporter": "python",
   "pygments_lexer": "ipython3",
   "version": "3.9.12"
  }
 },
 "nbformat": 4,
 "nbformat_minor": 5
}
