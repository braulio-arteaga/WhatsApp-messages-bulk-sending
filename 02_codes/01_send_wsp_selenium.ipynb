{
 "cells": [
  {
   "cell_type": "markdown",
   "id": "826ced50",
   "metadata": {},
   "source": [
    "## MASSIVE SEND OF WHATSAPP SMS\n",
    " \n",
    "* **Institution:** IPA   \n",
    "* **Author:** Braulio Arteaga  \n",
    "* **Mail**: barteaga@vmail.poverty-action.org  \n",
    "* **Creation date:** 28-01-22  \n",
    "* **Update date:**  30-01-22"
   ]
  },
  {
   "cell_type": "markdown",
   "id": "866fabaa",
   "metadata": {},
   "source": [
    "Este notebook tomo como referencia principal el repositorio [whatsapp-bulk-messages-without-saving-contacts](https://github.com/inforkgodara/whatsapp-bulk-messages-without-saving-contacts) de [Ramesh Kumar](https://github.com/inforkgodara).   \n",
    "\n",
    "¡Gracias por tu contribución!"
   ]
  },
  {
   "cell_type": "markdown",
   "id": "dbe1fbd9",
   "metadata": {},
   "source": [
    "### 1. Basic Requirement: \n"
   ]
  },
  {
   "cell_type": "markdown",
   "id": "4c5440e6",
   "metadata": {},
   "source": [
    "* Descargar el chromeDriver ([CLICK AQUÍ](https://chromedriver.chromium.org/downloads)) según la versión de tu navegador chrome. \n",
    "* Instalar los siguinetes paquetes:  \n",
    "`pip install pandas`  (data manipulation)  \n",
    "`pip install selenium`  (scraping)    \n",
    "`pip install webdriver_manager`  (scraping)  \n",
    "`pip install datetime` (current date)  \n",
    "`pip install pytz` (time zone)"
   ]
  },
  {
   "cell_type": "markdown",
   "id": "ff8cdc2a",
   "metadata": {},
   "source": [
    "### 2. Code:"
   ]
  },
  {
   "cell_type": "code",
   "execution_count": 74,
   "id": "0a792622",
   "metadata": {},
   "outputs": [],
   "source": [
    "# Import packages\n",
    "import pandas as pd\n",
    "\n",
    "from selenium import webdriver\n",
    "from selenium.webdriver.support.ui import WebDriverWait\n",
    "from selenium.webdriver.support import expected_conditions as EC\n",
    "from selenium.webdriver.common.by import By\n",
    "from webdriver_manager.chrome import ChromeDriverManager\n",
    "\n",
    "import time\n",
    "from time import sleep\n",
    "import pytz\n",
    "from datetime import datetime"
   ]
  },
  {
   "cell_type": "code",
   "execution_count": 11,
   "id": "baed1544",
   "metadata": {},
   "outputs": [
    {
     "data": {
      "text/plain": [
       "'C:\\\\Users\\\\braul\\\\Desktop\\\\04_IPA\\\\03_Resources\\\\03_bulk_send_whatsapp\\\\02_codes'"
      ]
     },
     "execution_count": 11,
     "metadata": {},
     "output_type": "execute_result"
    }
   ],
   "source": [
    "# Current Working Directory\n",
    "import os\n",
    "os.getcwd()"
   ]
  },
  {
   "cell_type": "code",
   "execution_count": 25,
   "id": "e683adc1",
   "metadata": {},
   "outputs": [],
   "source": [
    "# Setup direcory\n",
    "MAIN = \"C:/Users/braul/Desktop/04_IPA/03_Resources/03_bulk_send_whatsapp\"\n",
    "INPUT = MAIN + \"/01_input\"\n",
    "OUTPUT = MAIN + \"/03_output\""
   ]
  },
  {
   "cell_type": "code",
   "execution_count": 26,
   "id": "d4be9c23",
   "metadata": {},
   "outputs": [
    {
     "data": {
      "text/html": [
       "<div>\n",
       "<style scoped>\n",
       "    .dataframe tbody tr th:only-of-type {\n",
       "        vertical-align: middle;\n",
       "    }\n",
       "\n",
       "    .dataframe tbody tr th {\n",
       "        vertical-align: top;\n",
       "    }\n",
       "\n",
       "    .dataframe thead th {\n",
       "        text-align: right;\n",
       "    }\n",
       "</style>\n",
       "<table border=\"1\" class=\"dataframe\">\n",
       "  <thead>\n",
       "    <tr style=\"text-align: right;\">\n",
       "      <th></th>\n",
       "      <th>phone</th>\n",
       "      <th>message</th>\n",
       "    </tr>\n",
       "  </thead>\n",
       "  <tbody>\n",
       "    <tr>\n",
       "      <th>0</th>\n",
       "      <td>933368853</td>\n",
       "      <td>Estimada Juana, ¿Quieres mejorar la EDUCACIÓN ...</td>\n",
       "    </tr>\n",
       "    <tr>\n",
       "      <th>1</th>\n",
       "      <td>922848812</td>\n",
       "      <td>Estimada Pedra, ¿Quieres mejorar la EDUCACIÓN ...</td>\n",
       "    </tr>\n",
       "    <tr>\n",
       "      <th>2</th>\n",
       "      <td>962607427</td>\n",
       "      <td>Estimado Elias, ¿Quieres mejorar la EDUCACIÓN ...</td>\n",
       "    </tr>\n",
       "    <tr>\n",
       "      <th>3</th>\n",
       "      <td>997668202</td>\n",
       "      <td>Hola</td>\n",
       "    </tr>\n",
       "    <tr>\n",
       "      <th>4</th>\n",
       "      <td>921765439</td>\n",
       "      <td>Estimada Melissa, ¿Quieres mejorar la EDUCACIÓ...</td>\n",
       "    </tr>\n",
       "    <tr>\n",
       "      <th>5</th>\n",
       "      <td>977200827</td>\n",
       "      <td>Estimada Lourdes, ¿Quieres mejorar la EDUCACIÓ...</td>\n",
       "    </tr>\n",
       "  </tbody>\n",
       "</table>\n",
       "</div>"
      ],
      "text/plain": [
       "       phone                                            message\n",
       "0  933368853  Estimada Juana, ¿Quieres mejorar la EDUCACIÓN ...\n",
       "1  922848812  Estimada Pedra, ¿Quieres mejorar la EDUCACIÓN ...\n",
       "2  962607427  Estimado Elias, ¿Quieres mejorar la EDUCACIÓN ...\n",
       "3  997668202                                               Hola\n",
       "4  921765439  Estimada Melissa, ¿Quieres mejorar la EDUCACIÓ...\n",
       "5  977200827  Estimada Lourdes, ¿Quieres mejorar la EDUCACIÓ..."
      ]
     },
     "execution_count": 26,
     "metadata": {},
     "output_type": "execute_result"
    }
   ],
   "source": [
    "# Import data \n",
    "excel_data = pd.read_excel(INPUT +'/list.xlsx', sheet_name='01_list')\n",
    "data = pd.DataFrame(excel_data, columns = ['phone','message'])\n",
    "data"
   ]
  },
  {
   "cell_type": "code",
   "execution_count": 27,
   "id": "1766bc79",
   "metadata": {},
   "outputs": [
    {
     "data": {
      "text/html": [
       "<div>\n",
       "<style scoped>\n",
       "    .dataframe tbody tr th:only-of-type {\n",
       "        vertical-align: middle;\n",
       "    }\n",
       "\n",
       "    .dataframe tbody tr th {\n",
       "        vertical-align: top;\n",
       "    }\n",
       "\n",
       "    .dataframe thead th {\n",
       "        text-align: right;\n",
       "    }\n",
       "</style>\n",
       "<table border=\"1\" class=\"dataframe\">\n",
       "  <thead>\n",
       "    <tr style=\"text-align: right;\">\n",
       "      <th></th>\n",
       "      <th>phone</th>\n",
       "      <th>message</th>\n",
       "      <th>phone_cc</th>\n",
       "    </tr>\n",
       "  </thead>\n",
       "  <tbody>\n",
       "    <tr>\n",
       "      <th>0</th>\n",
       "      <td>933368853</td>\n",
       "      <td>Estimada Juana, ¿Quieres mejorar la EDUCACIÓN ...</td>\n",
       "      <td>51933368853</td>\n",
       "    </tr>\n",
       "    <tr>\n",
       "      <th>1</th>\n",
       "      <td>922848812</td>\n",
       "      <td>Estimada Pedra, ¿Quieres mejorar la EDUCACIÓN ...</td>\n",
       "      <td>51922848812</td>\n",
       "    </tr>\n",
       "    <tr>\n",
       "      <th>2</th>\n",
       "      <td>962607427</td>\n",
       "      <td>Estimado Elias, ¿Quieres mejorar la EDUCACIÓN ...</td>\n",
       "      <td>51962607427</td>\n",
       "    </tr>\n",
       "    <tr>\n",
       "      <th>3</th>\n",
       "      <td>997668202</td>\n",
       "      <td>Hola</td>\n",
       "      <td>51997668202</td>\n",
       "    </tr>\n",
       "    <tr>\n",
       "      <th>4</th>\n",
       "      <td>921765439</td>\n",
       "      <td>Estimada Melissa, ¿Quieres mejorar la EDUCACIÓ...</td>\n",
       "      <td>51921765439</td>\n",
       "    </tr>\n",
       "    <tr>\n",
       "      <th>5</th>\n",
       "      <td>977200827</td>\n",
       "      <td>Estimada Lourdes, ¿Quieres mejorar la EDUCACIÓ...</td>\n",
       "      <td>51977200827</td>\n",
       "    </tr>\n",
       "  </tbody>\n",
       "</table>\n",
       "</div>"
      ],
      "text/plain": [
       "       phone                                            message     phone_cc\n",
       "0  933368853  Estimada Juana, ¿Quieres mejorar la EDUCACIÓN ...  51933368853\n",
       "1  922848812  Estimada Pedra, ¿Quieres mejorar la EDUCACIÓN ...  51922848812\n",
       "2  962607427  Estimado Elias, ¿Quieres mejorar la EDUCACIÓN ...  51962607427\n",
       "3  997668202                                               Hola  51997668202\n",
       "4  921765439  Estimada Melissa, ¿Quieres mejorar la EDUCACIÓ...  51921765439\n",
       "5  977200827  Estimada Lourdes, ¿Quieres mejorar la EDUCACIÓ...  51977200827"
      ]
     },
     "execution_count": 27,
     "metadata": {},
     "output_type": "execute_result"
    }
   ],
   "source": [
    "#Add Country Code (Example: 51 = Perú) to Celular:\n",
    "data['phone'] = data['phone'].astype(str)\n",
    "data[\"phone_cc\"] = \"51\" + data[\"phone\"] \n",
    "data"
   ]
  },
  {
   "cell_type": "markdown",
   "id": "54d25316",
   "metadata": {},
   "source": [
    "----\n",
    " **Note:**  The following code may not work in case if the HTML of web WhatsApp is changed."
   ]
  },
  {
   "cell_type": "code",
   "execution_count": 28,
   "id": "829c04f0",
   "metadata": {},
   "outputs": [
    {
     "data": {
      "text/html": [
       "<div>\n",
       "<style scoped>\n",
       "    .dataframe tbody tr th:only-of-type {\n",
       "        vertical-align: middle;\n",
       "    }\n",
       "\n",
       "    .dataframe tbody tr th {\n",
       "        vertical-align: top;\n",
       "    }\n",
       "\n",
       "    .dataframe thead th {\n",
       "        text-align: right;\n",
       "    }\n",
       "</style>\n",
       "<table border=\"1\" class=\"dataframe\">\n",
       "  <thead>\n",
       "    <tr style=\"text-align: right;\">\n",
       "      <th></th>\n",
       "      <th>date</th>\n",
       "      <th>phone</th>\n",
       "      <th>status</th>\n",
       "    </tr>\n",
       "  </thead>\n",
       "  <tbody>\n",
       "    <tr>\n",
       "      <th>0</th>\n",
       "      <td>NaN</td>\n",
       "      <td>NaN</td>\n",
       "      <td>NaN</td>\n",
       "    </tr>\n",
       "    <tr>\n",
       "      <th>1</th>\n",
       "      <td>NaN</td>\n",
       "      <td>NaN</td>\n",
       "      <td>NaN</td>\n",
       "    </tr>\n",
       "    <tr>\n",
       "      <th>2</th>\n",
       "      <td>NaN</td>\n",
       "      <td>NaN</td>\n",
       "      <td>NaN</td>\n",
       "    </tr>\n",
       "    <tr>\n",
       "      <th>3</th>\n",
       "      <td>NaN</td>\n",
       "      <td>NaN</td>\n",
       "      <td>NaN</td>\n",
       "    </tr>\n",
       "    <tr>\n",
       "      <th>4</th>\n",
       "      <td>NaN</td>\n",
       "      <td>NaN</td>\n",
       "      <td>NaN</td>\n",
       "    </tr>\n",
       "    <tr>\n",
       "      <th>5</th>\n",
       "      <td>NaN</td>\n",
       "      <td>NaN</td>\n",
       "      <td>NaN</td>\n",
       "    </tr>\n",
       "  </tbody>\n",
       "</table>\n",
       "</div>"
      ],
      "text/plain": [
       "  date phone status\n",
       "0  NaN   NaN    NaN\n",
       "1  NaN   NaN    NaN\n",
       "2  NaN   NaN    NaN\n",
       "3  NaN   NaN    NaN\n",
       "4  NaN   NaN    NaN\n",
       "5  NaN   NaN    NaN"
      ]
     },
     "execution_count": 28,
     "metadata": {},
     "output_type": "execute_result"
    }
   ],
   "source": [
    "# Create a report (dataframe)\n",
    "report_send = pd.DataFrame(columns = ['date','phone','status'], index = list(range(len(data))))\n",
    "report_send"
   ]
  },
  {
   "cell_type": "code",
   "execution_count": 15,
   "id": "d506d3a1",
   "metadata": {
    "collapsed": true
   },
   "outputs": [
    {
     "name": "stderr",
     "output_type": "stream",
     "text": [
      "\n",
      "\n",
      "====== WebDriver manager ======\n",
      "Current google-chrome version is 97.0.4692\n",
      "Get LATEST chromedriver version for 97.0.4692 google-chrome\n",
      "Driver [C:\\Users\\braul\\.wdm\\drivers\\chromedriver\\win32\\97.0.4692.71\\chromedriver.exe] found in cache\n",
      "<ipython-input-15-777379362ff9>:4: DeprecationWarning: executable_path has been deprecated, please pass in a Service object\n",
      "  driver = webdriver.Chrome(ChromeDriverManager().install())\n"
     ]
    },
    {
     "name": "stdout",
     "output_type": "stream",
     "text": [
      "Press ENTER after login into Whatsapp Web and your chats are visiable\n",
      "\n",
      "Message sent to: 51933368853\n",
      "Message sent to: 51922848812\n",
      "\n",
      "Failed to send message to 51962607427. The Motive was: element click intercepted: Element <button class=\"_4sWnG\">...</button> is not clickable at point (1000, 642)\n",
      "\n",
      "\n",
      "Sorry message could not sent to 51997668202\n",
      "\n",
      "Message sent to: 51921765439\n",
      "Message sent to: 51977200827\n",
      "\n",
      "The script executed successfully.\n",
      "\n",
      "The total messages sending took 1.5 minutes\n"
     ]
    }
   ],
   "source": [
    "# Emvío de sms masivos por wsp\n",
    "\n",
    "## PASO 0: Iniciar sesión en tu WhatsApp Web \n",
    "driver = webdriver.Chrome(ChromeDriverManager().install())\n",
    "driver.get('https://web.whatsapp.com')\n",
    "input(\"Press ENTER after login into Whatsapp Web and your chats are visiable\\n\")\n",
    "\n",
    "\n",
    "start = time.time()\n",
    "\n",
    "\n",
    "for i in range(len(data)):\n",
    "    try:\n",
    "## PASO 1: Abrir el url correspondiente al wsp del individuo \n",
    "        report_send['phone'][i] = data['phone_cc'][i] #reporte \n",
    "        url = 'https://web.whatsapp.com/send?phone=' + str(data['phone_cc'][i]) + '&text=' + data['message'][i]\n",
    "        sent = False\n",
    "        driver.get(url)\n",
    "## PASO 2: Encontrar el elemento clickeable necesario (HTML) para enviar el sms predefinido\n",
    "        try:\n",
    "            click_btn = WebDriverWait(driver, 10).until(\n",
    "                EC.element_to_be_clickable((By.CLASS_NAME, '_4sWnG')))\n",
    "        except Exception as e:\n",
    "            status1 = \"Sorry message could not sent to \" + str(data['phone_cc'][i]) \n",
    "            print('\\n' + status1 + '\\n')\n",
    "            #print(\"Sorry message could not sent to \" + str(data['phone_cc'][count]))\n",
    "            report_send['status'][i] = status1 #reporte \n",
    "        else:\n",
    "## PASO 3: Click al elemento HTML identificado para enviar el sms predefinido\n",
    "            sleep(2)\n",
    "            click_btn.click()\n",
    "            sent = True\n",
    "            sleep(5)\n",
    "            status2 = 'Message sent to: ' + str(data['phone_cc'][i])\n",
    "            print(status2)\n",
    "            #print('Message sent to: ' + str(data['phone_cc'][count]))\n",
    "            report_send['status'][i] = status2\n",
    "    except Exception as e:\n",
    "        status3 = \"Failed to send message to \" + str(data['phone_cc'][i]) + \". The Motive was: \" + str(e)[9:117] \n",
    "        print( '\\n' + status3 + '\\n')\n",
    "        #print(\"\\nFailed to send message to \" + str(data['phone_cc'][count]) + \". The Motive was: \" + str(e)[9:117] + \"\\n\")\n",
    "        report_send['status'][i] = status3\n",
    "        \n",
    "driver.quit() #Cerrar driver luego de finalizado el loop\n",
    "print(\"\\nThe script executed successfully.\")\n",
    "\n",
    "\n",
    "end = time.time() #Time of loop\n",
    "print(f\"\\nThe total messages sending took {round((end-start)/60,2)} minutes\") #Tiempo de duración del loop\n",
    " \n",
    "# Interpretación de los print:\n",
    "## \"The script executed successfully.\": El loop termino de ejecutarse\n",
    "## \"Message sent to: ...\" = Envío existoso del sms\n",
    "## \"Sorry message could not sent to ...\" = No se identifico el elemento clickeable html (el # no tiene wsp, actualización de WSP WEB, etc)\n",
    "## \"Failed to send message to ...\" = Hubo problemas para realizar el click del elemento html"
   ]
  },
  {
   "cell_type": "code",
   "execution_count": null,
   "id": "465b085f",
   "metadata": {},
   "outputs": [],
   "source": [
    "# Get current date\n",
    "country_time = datetime.now(pytz.timezone('America/Lima')) #para averiguar tu zona horaria: print(pytz.all_timezones)\n",
    "date = country_time.strftime(\"%d-%m-%y\")"
   ]
  },
  {
   "cell_type": "code",
   "execution_count": 58,
   "id": "43c300d4",
   "metadata": {},
   "outputs": [],
   "source": [
    "# Export report\n",
    "report_send.to_excel(OUTPUT + '/report_send_wsp_' + date + \".xlsx\", index=False)"
   ]
  }
 ],
 "metadata": {
  "kernelspec": {
   "display_name": "Python 3",
   "language": "python",
   "name": "python3"
  },
  "language_info": {
   "codemirror_mode": {
    "name": "ipython",
    "version": 3
   },
   "file_extension": ".py",
   "mimetype": "text/x-python",
   "name": "python",
   "nbconvert_exporter": "python",
   "pygments_lexer": "ipython3",
   "version": "3.8.8"
  }
 },
 "nbformat": 4,
 "nbformat_minor": 5
}
